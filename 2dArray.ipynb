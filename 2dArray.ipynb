{
 "cells": [
  {
   "cell_type": "code",
   "execution_count": 1,
   "metadata": {},
   "outputs": [],
   "source": [
    "tuple1 = tuple(i for i in range(1,16))\n"
   ]
  },
  {
   "cell_type": "code",
   "execution_count": 2,
   "metadata": {},
   "outputs": [
    {
     "data": {
      "text/plain": [
       "(1, 2, 3, 4, 5, 6, 7, 8, 9, 10, 11, 12, 13, 14, 15)"
      ]
     },
     "execution_count": 2,
     "metadata": {},
     "output_type": "execute_result"
    }
   ],
   "source": [
    "tuple1"
   ]
  },
  {
   "cell_type": "markdown",
   "metadata": {},
   "source": [
    "# For Loop"
   ]
  },
  {
   "cell_type": "code",
   "execution_count": 5,
   "metadata": {},
   "outputs": [
    {
     "name": "stdout",
     "output_type": "stream",
     "text": [
      "0 Nasir\n",
      "1 Nasir\n",
      "2 Nasir\n",
      "3 Nasir\n",
      "4 Nasir\n"
     ]
    }
   ],
   "source": [
    "for i in range(5):\n",
    "    print(i,\"Nasir\")"
   ]
  },
  {
   "cell_type": "code",
   "execution_count": 8,
   "metadata": {},
   "outputs": [
    {
     "name": "stdout",
     "output_type": "stream",
     "text": [
      "IMRANKHANZINDABAD"
     ]
    }
   ],
   "source": [
    "for char in \"ImranKhanZindabad\":\n",
    "    print(char.upper(),end=\"\")"
   ]
  },
  {
   "cell_type": "code",
   "execution_count": 37,
   "metadata": {},
   "outputs": [
    {
     "name": "stdout",
     "output_type": "stream",
     "text": [
      "The name of a student<built-in method index of str object at 0x000002609A953BB0> is: Tahir\n",
      "The name of a student<built-in method index of str object at 0x000002609A953BB0> is: Tahir\n",
      "The name of a student<built-in method index of str object at 0x000002609A953BB0> is: Tahir\n",
      "The name of a student<built-in method index of str object at 0x000002609A953BB0> is: Tahir\n",
      "The name of a student<built-in method index of str object at 0x000002609A953BB0> is: Tahir\n"
     ]
    }
   ],
   "source": [
    "for student in [\"Asad\",\"Ahmed\",\"Ali\",\"Basit\",\"Tahir\"]:\n",
    "    print(f\"The name of a student{i.index} is: {i}\")"
   ]
  },
  {
   "cell_type": "code",
   "execution_count": 38,
   "metadata": {},
   "outputs": [],
   "source": [
    "a=[\"Asad\",\"Ahmed\",\"Ali\",\"Basit\",\"Tahir\"]"
   ]
  },
  {
   "cell_type": "code",
   "execution_count": 35,
   "metadata": {},
   "outputs": [
    {
     "ename": "NameError",
     "evalue": "name 'index' is not defined",
     "output_type": "error",
     "traceback": [
      "\u001b[1;31m---------------------------------------------------------------------------\u001b[0m",
      "\u001b[1;31mNameError\u001b[0m                                 Traceback (most recent call last)",
      "\u001b[1;32m<ipython-input-35-ae61d2572506>\u001b[0m in \u001b[0;36m<module>\u001b[1;34m\u001b[0m\n\u001b[1;32m----> 1\u001b[1;33m \u001b[0mindex\u001b[0m\u001b[1;33m(\u001b[0m\u001b[0ma\u001b[0m\u001b[1;33m)\u001b[0m\u001b[1;33m\u001b[0m\u001b[1;33m\u001b[0m\u001b[0m\n\u001b[0m",
      "\u001b[1;31mNameError\u001b[0m: name 'index' is not defined"
     ]
    }
   ],
   "source": [
    "index(a)"
   ]
  },
  {
   "cell_type": "code",
   "execution_count": 27,
   "metadata": {},
   "outputs": [
    {
     "name": "stdout",
     "output_type": "stream",
     "text": [
      "10\n",
      "9\n",
      "8\n",
      "7\n",
      "6\n",
      "5\n",
      "4\n",
      "3\n",
      "2\n",
      "1\n"
     ]
    }
   ],
   "source": [
    "for i in range(10,0,-1):\n",
    "    print(i)"
   ]
  },
  {
   "cell_type": "code",
   "execution_count": 6,
   "metadata": {},
   "outputs": [
    {
     "name": "stdout",
     "output_type": "stream",
     "text": [
      "[1, 4, 9, 16, 25, 36, 49, 64, 81]\n"
     ]
    }
   ],
   "source": [
    "squares =[]\n",
    "for i in range(1,10):\n",
    "    square = i**2\n",
    "    squares.append(square)\n",
    "    \n",
    "print(squares)"
   ]
  },
  {
   "cell_type": "code",
   "execution_count": 38,
   "metadata": {},
   "outputs": [],
   "source": [
    "std = [\"Govinda\", \"Kumare\"]\n"
   ]
  },
  {
   "cell_type": "code",
   "execution_count": 41,
   "metadata": {},
   "outputs": [],
   "source": [
    "for num in range(len(std)):\n",
    "    #std.pop(std[num]+\" Pakistani\")\n",
    "    std.append(std[num]+\" Pakistani\")"
   ]
  },
  {
   "cell_type": "code",
   "execution_count": 42,
   "metadata": {},
   "outputs": [
    {
     "data": {
      "text/plain": [
       "['Govinda',\n",
       " 'Kumare',\n",
       " 'Govinda Pakistani',\n",
       " 'Kumare Pakistani',\n",
       " 'Govinda Pakistani',\n",
       " 'Kumare Pakistani',\n",
       " 'Govinda Pakistani Pakistani',\n",
       " 'Kumare Pakistani Pakistani']"
      ]
     },
     "execution_count": 42,
     "metadata": {},
     "output_type": "execute_result"
    }
   ],
   "source": [
    "std"
   ]
  },
  {
   "cell_type": "code",
   "execution_count": 31,
   "metadata": {},
   "outputs": [],
   "source": []
  },
  {
   "cell_type": "code",
   "execution_count": 58,
   "metadata": {},
   "outputs": [
    {
     "data": {
      "text/plain": [
       "['Govinda Pakistani', 'Kumare Pakistani', 'Rameez Pakistani']"
      ]
     },
     "execution_count": 58,
     "metadata": {},
     "output_type": "execute_result"
    }
   ],
   "source": [
    "std2 = [\"Govinda\", \"Kumare\",\"Rameez\"]\n",
    "for i in range(len(std2)):\n",
    "    std2[i] = f\"{std2[i]} Pakistani\"\n",
    "    \n",
    "std2"
   ]
  },
  {
   "cell_type": "code",
   "execution_count": 53,
   "metadata": {},
   "outputs": [
    {
     "data": {
      "text/plain": [
       "['Govinda',\n",
       " 'Kumare',\n",
       " 'Rameez',\n",
       " 'Govinda Pakistani',\n",
       " 'Kumare Pakistani',\n",
       " 'Rameez Pakistani']"
      ]
     },
     "execution_count": 53,
     "metadata": {},
     "output_type": "execute_result"
    }
   ],
   "source": [
    "std2"
   ]
  },
  {
   "cell_type": "code",
   "execution_count": null,
   "metadata": {},
   "outputs": [],
   "source": []
  }
 ],
 "metadata": {
  "kernelspec": {
   "display_name": "Python 3",
   "language": "python",
   "name": "python3"
  }
 },
 "nbformat": 4,
 "nbformat_minor": 4
}
